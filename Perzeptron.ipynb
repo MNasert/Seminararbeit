{
 "cells": [
  {
   "cell_type": "code",
   "execution_count": 123,
   "metadata": {},
   "outputs": [],
   "source": [
    "import torch.nn as nn\n",
    "import torchvision\n",
    "import torch\n",
    "\n",
    "X=(1.,1.),(1.,0.),(0.,1.),(0.,0.)\n",
    "Y=(1.,0.,0.,0.)\n",
    "X=torch.Tensor(X)\n",
    "Y=torch.Tensor(Y)"
   ]
  },
  {
   "cell_type": "code",
   "execution_count": 128,
   "metadata": {},
   "outputs": [],
   "source": [
    "net=nn.Sequential(\n",
    "nn.Linear(2,1,bias=False)\n",
    ")\n"
   ]
  },
  {
   "cell_type": "code",
   "execution_count": null,
   "metadata": {},
   "outputs": [],
   "source": []
  },
  {
   "cell_type": "code",
   "execution_count": 129,
   "metadata": {},
   "outputs": [
    {
     "name": "stdout",
     "output_type": "stream",
     "text": [
      "epoch:  1 Loss:  0.2294028401374817\n",
      "epoch:  2 Loss:  0.22382992506027222\n",
      "epoch:  3 Loss:  0.21977680921554565\n",
      "epoch:  4 Loss:  0.21682432293891907\n",
      "epoch:  5 Loss:  0.21466940641403198\n",
      "epoch:  6 Loss:  0.2130928486585617\n",
      "epoch:  7 Loss:  0.2119360715150833\n",
      "epoch:  8 Loss:  0.2110843062400818\n",
      "epoch:  9 Loss:  0.21045447885990143\n",
      "epoch:  10 Loss:  0.20998640358448029\n",
      "epoch:  11 Loss:  0.20963646471500397\n",
      "epoch:  12 Loss:  0.20937302708625793\n",
      "epoch:  13 Loss:  0.20917312800884247\n",
      "epoch:  14 Loss:  0.20902006328105927\n",
      "epoch:  15 Loss:  0.20890167355537415\n",
      "epoch:  16 Loss:  0.20880909264087677\n",
      "epoch:  17 Loss:  0.208735853433609\n",
      "epoch:  18 Loss:  0.20867720246315002\n",
      "epoch:  19 Loss:  0.20862966775894165\n",
      "epoch:  20 Loss:  0.20859064161777496\n",
      "epoch:  21 Loss:  0.20855824649333954\n",
      "epoch:  22 Loss:  0.20853103697299957\n",
      "epoch:  23 Loss:  0.2085079401731491\n",
      "epoch:  24 Loss:  0.20848815143108368\n",
      "epoch:  25 Loss:  0.20847105979919434\n",
      "epoch:  26 Loss:  0.20845618844032288\n",
      "epoch:  27 Loss:  0.20844317972660065\n",
      "epoch:  28 Loss:  0.20843170583248138\n",
      "epoch:  29 Loss:  0.20842157304286957\n",
      "epoch:  30 Loss:  0.20841257274150848\n",
      "epoch:  31 Loss:  0.2084045708179474\n",
      "epoch:  32 Loss:  0.20839741826057434\n",
      "epoch:  33 Loss:  0.20839102566242218\n",
      "epoch:  34 Loss:  0.20838530361652374\n",
      "epoch:  35 Loss:  0.20838014781475067\n",
      "epoch:  36 Loss:  0.20837552845478058\n",
      "epoch:  37 Loss:  0.2083713710308075\n",
      "epoch:  38 Loss:  0.20836763083934784\n",
      "epoch:  39 Loss:  0.20836427807807922\n",
      "epoch:  40 Loss:  0.20836123824119568\n",
      "epoch:  41 Loss:  0.2083585113286972\n",
      "epoch:  42 Loss:  0.20835603773593903\n",
      "epoch:  43 Loss:  0.20835381746292114\n",
      "epoch:  44 Loss:  0.20835182070732117\n",
      "epoch:  45 Loss:  0.2083500176668167\n",
      "epoch:  46 Loss:  0.20834839344024658\n",
      "epoch:  47 Loss:  0.2083469182252884\n",
      "epoch:  48 Loss:  0.20834559202194214\n",
      "epoch:  49 Loss:  0.20834439992904663\n",
      "epoch:  50 Loss:  0.20834332704544067\n"
     ]
    }
   ],
   "source": [
    "criterion = torch.nn.MSELoss()#Mittlerer quadratischer Fehler                 \n",
    "\n",
    "epoch=0\n",
    "optimizer = torch.optim.SGD(net.parameters(), lr = 0.1)\n",
    "\n",
    "\n",
    "while epoch<50:\n",
    "    epoch+=1\n",
    "    y_pred = net(X)#model.predict --> Vorhersage des Modells der gesamten Epoche\n",
    "\n",
    "    # loss wird anhand von criterion berechnet\n",
    "    loss = criterion(y_pred,Y)\n",
    "    print(\"epoch: \",epoch,\"Loss: \",loss.item())\n",
    "\n",
    "    # Gradienten auf null setzen\n",
    "    optimizer.zero_grad()\n",
    "\n",
    "    # Backwardpass aller Gewichte und Biases anhand Backpropagation\n",
    "    loss.backward()\n",
    "\n",
    "    # Parameterupdate\n",
    "    optimizer.step()"
   ]
  },
  {
   "cell_type": "code",
   "execution_count": 130,
   "metadata": {},
   "outputs": [],
   "source": [
    "z=net(X)"
   ]
  },
  {
   "cell_type": "code",
   "execution_count": 132,
   "metadata": {},
   "outputs": [
    {
     "name": "stdout",
     "output_type": "stream",
     "text": [
      "tensor([[0.9998],\n",
      "        [0.5126],\n",
      "        [0.4872],\n",
      "        [0.0000]], grad_fn=<MulBackward0>)\n"
     ]
    }
   ],
   "source": [
    "print(z*3)"
   ]
  },
  {
   "cell_type": "code",
   "execution_count": null,
   "metadata": {},
   "outputs": [],
   "source": []
  }
 ],
 "metadata": {
  "kernelspec": {
   "display_name": "Python 3",
   "language": "python",
   "name": "python3"
  },
  "language_info": {
   "codemirror_mode": {
    "name": "ipython",
    "version": 3
   },
   "file_extension": ".py",
   "mimetype": "text/x-python",
   "name": "python",
   "nbconvert_exporter": "python",
   "pygments_lexer": "ipython3",
   "version": "3.7.3"
  }
 },
 "nbformat": 4,
 "nbformat_minor": 2
}
