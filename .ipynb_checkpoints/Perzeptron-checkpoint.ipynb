{
 "cells": [
  {
   "cell_type": "code",
   "execution_count": 1,
   "metadata": {},
   "outputs": [],
   "source": [
    "import torch.nn as nn\n",
    "import torchvision\n",
    "import torch\n",
    "import time\n",
    "\n",
    "X=(1.,1.),(1.,0.),(0.,1.),(0.,0.)\n",
    "Y=(1.,0.,0.,0.)\n",
    "#logisches UND\n",
    "X=torch.Tensor(X)\n",
    "Y=torch.Tensor(Y)"
   ]
  },
  {
   "cell_type": "code",
   "execution_count": 2,
   "metadata": {},
   "outputs": [],
   "source": [
    "net=nn.Sequential(\n",
    "nn.Linear(2,1,bias=False)\n",
    ")\n"
   ]
  },
  {
   "cell_type": "code",
   "execution_count": 3,
   "metadata": {},
   "outputs": [],
   "source": [
    "losshist=[]\n",
    "import numpy as np\n",
    "import matplotlib.pyplot as plt\n",
    "fig = plt.figure()\n",
    "def plotter(lossdata):\n",
    "    u=np.arange(len(lossdata))\n",
    "    plt.plot(u,lossdata)\n",
    "    plt.show()"
   ]
  },
  {
   "cell_type": "code",
   "execution_count": 4,
   "metadata": {},
   "outputs": [
    {
     "name": "stderr",
     "output_type": "stream",
     "text": [
      "c:\\users\\max\\appdata\\local\\programs\\python\\python37\\lib\\site-packages\\torch\\nn\\modules\\loss.py:443: UserWarning: Using a target size (torch.Size([4])) that is different to the input size (torch.Size([4, 1])). This will likely lead to incorrect results due to broadcasting. Please ensure they have the same size.\n",
      "  return F.mse_loss(input, target, reduction=self.reduction)\n"
     ]
    },
    {
     "name": "stdout",
     "output_type": "stream",
     "text": [
      "losschange: -0.00998087227344513\n",
      "losschange: -0.007219374179840088\n",
      "losschange: -0.005223393440246582\n",
      "losschange: -0.003780573606491089\n",
      "losschange: -0.002737477421760559\n",
      "losschange: -0.001983270049095154\n",
      "losschange: -0.0014377981424331665\n",
      "losschange: -0.0010432600975036621\n",
      "losschange: -0.0007577389478683472\n",
      "losschange: -0.000551074743270874\n",
      "losschange: -0.00040140748023986816\n",
      "losschange: -0.0002929419279098511\n",
      "losschange: -0.000214308500289917\n",
      "losschange: -0.00015722215175628662\n",
      "losschange: -0.00011576712131500244\n",
      "losschange: -8.557736873626709e-05\n",
      "losschange: -6.358325481414795e-05\n",
      "losschange: -4.7534704208374023e-05\n",
      "losschange: -3.577768802642822e-05\n",
      "losschange: -2.7135014533996582e-05\n",
      "losschange: -2.0772218704223633e-05\n",
      "losschange: -1.6063451766967773e-05\n",
      "losschange: -1.2561678886413574e-05\n",
      "losschange: -9.924173355102539e-06\n",
      "losschange: -7.9423189163208e-06\n",
      "losschange: -6.4373016357421875e-06\n",
      "losschange: -5.27501106262207e-06\n",
      "losschange: -4.395842552185059e-06\n",
      "losschange: -3.680586814880371e-06\n",
      "losschange: -3.129243850708008e-06\n",
      "losschange: -2.6673078536987305e-06\n",
      "losschange: -2.3096799850463867e-06\n",
      "losschange: -2.0116567611694336e-06\n",
      "losschange: -1.7583370208740234e-06\n",
      "losschange: -1.564621925354004e-06\n",
      "losschange: -1.3560056686401367e-06\n",
      "losschange: -1.2218952178955078e-06\n",
      "losschange: -1.0728836059570312e-06\n",
      "losschange: -9.685754776000977e-07\n",
      "losschange: -8.642673492431641e-07\n",
      "losschange: -7.748603820800781e-07\n",
      "losschange: -7.003545761108398e-07\n",
      "losschange: -6.109476089477539e-07\n",
      "losschange: -5.662441253662109e-07\n",
      "losschange: -5.066394805908203e-07\n",
      "losschange: -4.470348358154297e-07\n",
      "losschange: -4.172325134277344e-07\n",
      "losschange: -3.725290298461914e-07\n",
      "losschange: -3.2782554626464844e-07\n",
      "losschange: -2.980232238769531e-07\n",
      "losschange: -2.8312206268310547e-07\n",
      "losschange: -2.384185791015625e-07\n",
      "losschange: -2.086162567138672e-07\n",
      "losschange: -2.086162567138672e-07\n",
      "losschange: -1.6391277313232422e-07\n",
      "losschange: -1.6391277313232422e-07\n",
      "losschange: -1.4901161193847656e-07\n",
      "losschange: -1.341104507446289e-07\n",
      "losschange: -1.1920928955078125e-07\n",
      "losschange: -1.043081283569336e-07\n",
      "losschange: -1.043081283569336e-07\n",
      "losschange: -8.940696716308594e-08\n",
      "losschange: -7.450580596923828e-08\n",
      "losschange: -7.450580596923828e-08\n",
      "losschange: -5.960464477539063e-08\n",
      "losschange: -5.960464477539063e-08\n",
      "losschange: -4.470348358154297e-08\n",
      "losschange: -5.960464477539063e-08\n",
      "losschange: -2.9802322387695312e-08\n",
      "losschange: -4.470348358154297e-08\n",
      "losschange: -2.9802322387695312e-08\n",
      "losschange: -2.9802322387695312e-08\n",
      "losschange: -2.9802322387695312e-08\n",
      "losschange: -1.4901161193847656e-08\n",
      "losschange: -4.470348358154297e-08\n",
      "losschange: -1.4901161193847656e-08\n",
      "losschange: -1.4901161193847656e-08\n",
      "losschange: -1.4901161193847656e-08\n",
      "losschange: -1.4901161193847656e-08\n",
      "losschange: -1.4901161193847656e-08\n",
      "losschange: -1.4901161193847656e-08\n",
      "losschange: 0.0\n"
     ]
    }
   ],
   "source": [
    "criterion = torch.nn.MSELoss()#Mittlerer quadratischer Fehler                 \n",
    "\n",
    "epoch=0\n",
    "optimizer = torch.optim.SGD(net.parameters(), lr = 0.1)\n",
    "\n",
    "\n",
    "while True:\n",
    "    y_pred = net(X)#model.predict --> Vorhersage des Modells der gesamten Epoche\n",
    "    # loss wird anhand von criterion berechnet\n",
    "    loss = criterion(y_pred,Y)\n",
    "    \n",
    "    losshist.append(loss.item())\n",
    "    #plotter(losshist) für präsentation\n",
    "    #for param in net.parameters():\n",
    "    #     print('weights: ',param.data)\n",
    "    if len(losshist)>2:\n",
    "        print('losschange:',(losshist[epoch]-losshist[epoch-1]))\n",
    "        if(losshist[epoch]-losshist[epoch-1])>=0:\n",
    "            break\n",
    "    #time.sleep(1) für präsentation\n",
    "    \n",
    "    optimizer.zero_grad()\n",
    "    \n",
    "    loss.backward()\n",
    "    # Parameterupdate\n",
    "    optimizer.step()\n",
    "    epoch+=1"
   ]
  },
  {
   "cell_type": "code",
   "execution_count": 5,
   "metadata": {},
   "outputs": [],
   "source": [
    "z=net(X)"
   ]
  },
  {
   "cell_type": "code",
   "execution_count": 6,
   "metadata": {},
   "outputs": [
    {
     "name": "stdout",
     "output_type": "stream",
     "text": [
      "tensor([[1.0000],\n",
      "        [0.4986],\n",
      "        [0.5014],\n",
      "        [0.0000]], grad_fn=<MulBackward0>)\n"
     ]
    }
   ],
   "source": [
    "print(z*3)# deuten der daten, theoretisch ist jetzt alles kleiner gleich 0.502 = 0, die Funktion kann\n",
    "          #natürlich nicht wie eine Transferfunktion alles auf 0 mappen"
   ]
  },
  {
   "cell_type": "code",
   "execution_count": 7,
   "metadata": {},
   "outputs": [
    {
     "data": {
      "text/plain": [
       "<matplotlib.legend.Legend at 0x29bc11e1c50>"
      ]
     },
     "execution_count": 7,
     "metadata": {},
     "output_type": "execute_result"
    },
    {
     "data": {
      "image/png": "[encoded data removed]",
      "text/plain": [
       "<Figure size 432x288 with 1 Axes>"
      ]
     },
     "metadata": {
      "needs_background": "light"
     },
     "output_type": "display_data"
    }
   ],
   "source": [
    "u=np.arange(len(losshist))\n",
    "plt.plot(u,losshist,label='Lernkurve')\n",
    "plt.plot((0,len(losshist)-1),(losshist[0],losshist[len(losshist)-1]),label='Linearisierung')\n",
    "plt.xlabel('Iterationen')\n",
    "plt.ylabel('Fehler in relativen Einheiten')\n",
    "\n",
    "plt.legend(bbox_to_anchor=(1.05, 1), loc=2, borderaxespad=0.)"
   ]
  },
  {
   "cell_type": "code",
   "execution_count": 9,
   "metadata": {},
   "outputs": [
    {
     "name": "stderr",
     "output_type": "stream",
     "text": [
      "c:\\users\\max\\appdata\\local\\programs\\python\\python37\\lib\\site-packages\\ipykernel_launcher.py:1: RuntimeWarning: divide by zero encountered in true_divide\n",
      "  \"\"\"Entry point for launching an IPython kernel.\n"
     ]
    },
    {
     "data": {
      "text/plain": [
       "Text(0, 0.5, 'Änderung des Fehlers in relativen Einheiten')"
      ]
     },
     "execution_count": 9,
     "metadata": {},
     "output_type": "execute_result"
    },
    {
     "data": {
      "image/png": "[encoded data removed]",
      "text/plain": [
       "<Figure size 432x288 with 1 Axes>"
      ]
     },
     "metadata": {
      "needs_background": "light"
     },
     "output_type": "display_data"
    }
   ],
   "source": [
    "plt.plot(u,-(1/(u*u)))# Ableitung der Lernkurve (approximiert)\n",
    "plt.xlabel('Iterationen')\n",
    "plt.ylabel('Änderung des Fehlers in relativen Einheiten')"
   ]
  },
  {
   "cell_type": "code",
   "execution_count": null,
   "metadata": {},
   "outputs": [],
   "source": []
  },
  {
   "cell_type": "code",
   "execution_count": null,
   "metadata": {},
   "outputs": [],
   "source": []
  }
 ],
 "metadata": {
  "kernelspec": {
   "display_name": "Python 3",
   "language": "python",
   "name": "python3"
  },
  "language_info": {
   "codemirror_mode": {
    "name": "ipython",
    "version": 3
   },
   "file_extension": ".py",
   "mimetype": "text/x-python",
   "name": "python",
   "nbconvert_exporter": "python",
   "pygments_lexer": "ipython3",
   "version": "3.7.3"
  }
 },
 "nbformat": 4,
 "nbformat_minor": 2
}
