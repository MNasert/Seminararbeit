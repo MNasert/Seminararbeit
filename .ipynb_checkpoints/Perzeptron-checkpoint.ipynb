{
 "cells": [
  {
   "cell_type": "code",
   "execution_count": 166,
   "metadata": {},
   "outputs": [],
   "source": [
    "import torch.nn as nn\n",
    "import torchvision\n",
    "import torch\n",
    "import time\n",
    "\n",
    "X=(1.,1.),(1.,0.),(0.,1.),(0.,0.)\n",
    "Y=(1.,0.,0.,0.)\n",
    "#logisches UND\n",
    "X=torch.Tensor(X)\n",
    "Y=torch.Tensor(Y)"
   ]
  },
  {
   "cell_type": "code",
   "execution_count": 167,
   "metadata": {},
   "outputs": [],
   "source": [
    "net=nn.Sequential(\n",
    "nn.Linear(2,1,bias=False)\n",
    ")\n"
   ]
  },
  {
   "cell_type": "code",
   "execution_count": 168,
   "metadata": {},
   "outputs": [
    {
     "data": {
      "text/plain": [
       "<Figure size 432x288 with 0 Axes>"
      ]
     },
     "metadata": {},
     "output_type": "display_data"
    }
   ],
   "source": [
    "losshist=[]\n",
    "import numpy as np\n",
    "import matplotlib.pyplot as plt\n",
    "fig = plt.figure()\n",
    "def plotter(lossdata):\n",
    "    u=np.arange(len(lossdata))\n",
    "    plt.plot(u,lossdata)\n",
    "    plt.show()"
   ]
  },
  {
   "cell_type": "code",
   "execution_count": 169,
   "metadata": {},
   "outputs": [
    {
     "name": "stdout",
     "output_type": "stream",
     "text": [
      "epoch:  0 Loss:  0.4311175048351288\n",
      "epoch:  1 Loss:  0.37433189153671265\n",
      "epoch:  2 Loss:  0.33281317353248596\n",
      "losschange: -0.041518718004226685\n",
      "epoch:  3 Loss:  0.30237266421318054\n",
      "losschange: -0.03044050931930542\n",
      "epoch:  4 Loss:  0.279979407787323\n",
      "losschange: -0.022393256425857544\n",
      "epoch:  5 Loss:  0.26343926787376404\n",
      "losschange: -0.01654013991355896\n",
      "epoch:  6 Loss:  0.25116318464279175\n",
      "losschange: -0.01227608323097229\n",
      "epoch:  7 Loss:  0.24199968576431274\n",
      "losschange: -0.009163498878479004\n",
      "epoch:  8 Loss:  0.23511368036270142\n",
      "losschange: -0.006886005401611328\n",
      "epoch:  9 Loss:  0.22989904880523682\n",
      "losschange: -0.0052146315574646\n",
      "epoch:  10 Loss:  0.2259153127670288\n",
      "losschange: -0.003983736038208008\n",
      "epoch:  11 Loss:  0.2228419929742813\n",
      "losschange: -0.0030733197927474976\n",
      "epoch:  12 Loss:  0.22044548392295837\n",
      "losschange: -0.002396509051322937\n",
      "epoch:  13 Loss:  0.21855510771274567\n",
      "losschange: -0.0018903762102127075\n",
      "epoch:  14 Loss:  0.21704590320587158\n",
      "losschange: -0.0015092045068740845\n",
      "epoch:  15 Loss:  0.2158260941505432\n",
      "losschange: -0.0012198090553283691\n",
      "epoch:  16 Loss:  0.2148279845714569\n",
      "losschange: -0.0009981095790863037\n",
      "epoch:  17 Loss:  0.21400144696235657\n",
      "losschange: -0.0008265376091003418\n",
      "epoch:  18 Loss:  0.2133091241121292\n",
      "losschange: -0.000692322850227356\n",
      "epoch:  19 Loss:  0.21272309124469757\n",
      "losschange: -0.0005860328674316406\n",
      "epoch:  20 Loss:  0.2122221738100052\n",
      "losschange: -0.0005009174346923828\n",
      "epoch:  21 Loss:  0.21179033815860748\n",
      "losschange: -0.0004318356513977051\n",
      "epoch:  22 Loss:  0.21141521632671356\n",
      "losschange: -0.0003751218318939209\n",
      "epoch:  23 Loss:  0.21108722686767578\n",
      "losschange: -0.00032798945903778076\n",
      "epoch:  24 Loss:  0.21079885959625244\n",
      "losschange: -0.00028836727142333984\n",
      "epoch:  25 Loss:  0.21054412424564362\n",
      "losschange: -0.0002547353506088257\n",
      "epoch:  26 Loss:  0.2103181928396225\n",
      "losschange: -0.00022593140602111816\n",
      "epoch:  27 Loss:  0.2101171761751175\n",
      "losschange: -0.00020101666450500488\n",
      "epoch:  28 Loss:  0.20993784070014954\n",
      "losschange: -0.00017933547496795654\n",
      "epoch:  29 Loss:  0.20977748930454254\n",
      "losschange: -0.00016035139560699463\n",
      "epoch:  30 Loss:  0.20963385701179504\n",
      "losschange: -0.00014363229274749756\n",
      "epoch:  31 Loss:  0.20950502157211304\n",
      "losschange: -0.00012883543968200684\n",
      "epoch:  32 Loss:  0.20938929915428162\n",
      "losschange: -0.0001157224178314209\n",
      "epoch:  33 Loss:  0.20928527414798737\n",
      "losschange: -0.00010402500629425049\n",
      "epoch:  34 Loss:  0.20919169485569\n",
      "losschange: -9.357929229736328e-05\n",
      "epoch:  35 Loss:  0.2091074436903\n",
      "losschange: -8.425116539001465e-05\n",
      "epoch:  36 Loss:  0.20903156697750092\n",
      "losschange: -7.587671279907227e-05\n",
      "epoch:  37 Loss:  0.20896320044994354\n",
      "losschange: -6.836652755737305e-05\n",
      "epoch:  38 Loss:  0.20890158414840698\n",
      "losschange: -6.161630153656006e-05\n",
      "epoch:  39 Loss:  0.20884603261947632\n",
      "losschange: -5.555152893066406e-05\n",
      "epoch:  40 Loss:  0.2087959200143814\n",
      "losschange: -5.011260509490967e-05\n",
      "epoch:  41 Loss:  0.20875073969364166\n",
      "losschange: -4.5180320739746094e-05\n",
      "epoch:  42 Loss:  0.2087099850177765\n",
      "losschange: -4.075467586517334e-05\n",
      "epoch:  43 Loss:  0.20867322385311127\n",
      "losschange: -3.676116466522217e-05\n",
      "epoch:  44 Loss:  0.20864005386829376\n",
      "losschange: -3.316998481750488e-05\n",
      "epoch:  45 Loss:  0.20861013233661652\n",
      "losschange: -2.9921531677246094e-05\n",
      "epoch:  46 Loss:  0.20858313143253326\n",
      "losschange: -2.7000904083251953e-05\n",
      "epoch:  47 Loss:  0.20855875313282013\n",
      "losschange: -2.4378299713134766e-05\n",
      "epoch:  48 Loss:  0.2085367739200592\n",
      "losschange: -2.1979212760925293e-05\n",
      "epoch:  49 Loss:  0.208516925573349\n",
      "losschange: -1.9848346710205078e-05\n",
      "epoch:  50 Loss:  0.2084990292787552\n",
      "losschange: -1.7896294593811035e-05\n",
      "epoch:  51 Loss:  0.20848286151885986\n",
      "losschange: -1.6167759895324707e-05\n",
      "epoch:  52 Loss:  0.20846828818321228\n",
      "losschange: -1.4573335647583008e-05\n",
      "epoch:  53 Loss:  0.2084551304578781\n",
      "losschange: -1.315772533416748e-05\n",
      "epoch:  54 Loss:  0.20844325423240662\n",
      "losschange: -1.1876225471496582e-05\n",
      "epoch:  55 Loss:  0.20843254029750824\n",
      "losschange: -1.0713934898376465e-05\n",
      "epoch:  56 Loss:  0.20842285454273224\n",
      "losschange: -9.685754776000977e-06\n",
      "epoch:  57 Loss:  0.20841413736343384\n",
      "losschange: -8.717179298400879e-06\n",
      "epoch:  58 Loss:  0.2084062546491623\n",
      "losschange: -7.88271427154541e-06\n",
      "epoch:  59 Loss:  0.20839914679527283\n",
      "losschange: -7.107853889465332e-06\n",
      "epoch:  60 Loss:  0.20839272439479828\n",
      "losschange: -6.42240047454834e-06\n",
      "epoch:  61 Loss:  0.20838694274425507\n",
      "losschange: -5.781650543212891e-06\n",
      "epoch:  62 Loss:  0.20838171243667603\n",
      "losschange: -5.230307579040527e-06\n",
      "epoch:  63 Loss:  0.20837698876857758\n",
      "losschange: -4.723668098449707e-06\n",
      "epoch:  64 Loss:  0.20837274193763733\n",
      "losschange: -4.246830940246582e-06\n",
      "epoch:  65 Loss:  0.20836889743804932\n",
      "losschange: -3.844499588012695e-06\n",
      "epoch:  66 Loss:  0.20836542546749115\n",
      "losschange: -3.471970558166504e-06\n",
      "epoch:  67 Loss:  0.20836229622364044\n",
      "losschange: -3.129243850708008e-06\n",
      "epoch:  68 Loss:  0.2083594799041748\n",
      "losschange: -2.816319465637207e-06\n",
      "epoch:  69 Loss:  0.20835691690444946\n",
      "losschange: -2.562999725341797e-06\n",
      "epoch:  70 Loss:  0.2083546221256256\n",
      "losschange: -2.294778823852539e-06\n",
      "epoch:  71 Loss:  0.20835255086421967\n",
      "losschange: -2.0712614059448242e-06\n",
      "epoch:  72 Loss:  0.20835068821907043\n",
      "losschange: -1.862645149230957e-06\n",
      "epoch:  73 Loss:  0.20834898948669434\n",
      "losschange: -1.6987323760986328e-06\n",
      "epoch:  74 Loss:  0.20834745466709137\n",
      "losschange: -1.5348196029663086e-06\n",
      "epoch:  75 Loss:  0.20834606885910034\n",
      "losschange: -1.385807991027832e-06\n",
      "epoch:  76 Loss:  0.20834484696388245\n",
      "losschange: -1.2218952178955078e-06\n",
      "epoch:  77 Loss:  0.2083437293767929\n",
      "losschange: -1.1175870895385742e-06\n",
      "epoch:  78 Loss:  0.20834270119667053\n",
      "losschange: -1.0281801223754883e-06\n",
      "epoch:  79 Loss:  0.2083417922258377\n",
      "losschange: -9.08970832824707e-07\n",
      "epoch:  80 Loss:  0.20834097266197205\n",
      "losschange: -8.195638656616211e-07\n",
      "epoch:  81 Loss:  0.20834022760391235\n",
      "losschange: -7.450580596923828e-07\n",
      "epoch:  82 Loss:  0.20833954215049744\n",
      "losschange: -6.854534149169922e-07\n",
      "epoch:  83 Loss:  0.20833894610404968\n",
      "losschange: -5.960464477539062e-07\n",
      "epoch:  84 Loss:  0.2083383947610855\n",
      "losschange: -5.513429641723633e-07\n",
      "epoch:  85 Loss:  0.2083379030227661\n",
      "losschange: -4.917383193969727e-07\n",
      "epoch:  86 Loss:  0.2083374559879303\n",
      "losschange: -4.470348358154297e-07\n",
      "epoch:  87 Loss:  0.20833705365657806\n",
      "losschange: -4.023313522338867e-07\n",
      "epoch:  88 Loss:  0.2083366960287094\n",
      "losschange: -3.5762786865234375e-07\n",
      "epoch:  89 Loss:  0.20833636820316315\n",
      "losschange: -3.2782554626464844e-07\n",
      "epoch:  90 Loss:  0.20833607017993927\n",
      "losschange: -2.980232238769531e-07\n",
      "epoch:  91 Loss:  0.20833580195903778\n",
      "losschange: -2.682209014892578e-07\n",
      "epoch:  92 Loss:  0.20833556354045868\n",
      "losschange: -2.384185791015625e-07\n",
      "epoch:  93 Loss:  0.20833535492420197\n",
      "losschange: -2.086162567138672e-07\n",
      "epoch:  94 Loss:  0.20833514630794525\n",
      "losschange: -2.086162567138672e-07\n",
      "epoch:  95 Loss:  0.20833498239517212\n",
      "losschange: -1.6391277313232422e-07\n",
      "epoch:  96 Loss:  0.208334818482399\n",
      "losschange: -1.6391277313232422e-07\n",
      "epoch:  97 Loss:  0.20833466947078705\n",
      "losschange: -1.4901161193847656e-07\n",
      "epoch:  98 Loss:  0.2083345353603363\n",
      "losschange: -1.341104507446289e-07\n",
      "epoch:  99 Loss:  0.20833441615104675\n",
      "losschange: -1.1920928955078125e-07\n",
      "epoch:  100 Loss:  0.2083343118429184\n",
      "losschange: -1.043081283569336e-07\n",
      "epoch:  101 Loss:  0.20833422243595123\n",
      "losschange: -8.940696716308594e-08\n",
      "epoch:  102 Loss:  0.20833413302898407\n",
      "losschange: -8.940696716308594e-08\n",
      "epoch:  103 Loss:  0.2083340585231781\n",
      "losschange: -7.450580596923828e-08\n",
      "epoch:  104 Loss:  0.20833398401737213\n",
      "losschange: -7.450580596923828e-08\n",
      "epoch:  105 Loss:  0.20833390951156616\n",
      "losschange: -7.450580596923828e-08\n",
      "epoch:  106 Loss:  0.20833386480808258\n",
      "losschange: -4.470348358154297e-08\n",
      "epoch:  107 Loss:  0.2083338052034378\n",
      "losschange: -5.960464477539063e-08\n",
      "epoch:  108 Loss:  0.20833376049995422\n",
      "losschange: -4.470348358154297e-08\n",
      "epoch:  109 Loss:  0.20833373069763184\n",
      "losschange: -2.9802322387695312e-08\n",
      "epoch:  110 Loss:  0.20833368599414825\n",
      "losschange: -4.470348358154297e-08\n",
      "epoch:  111 Loss:  0.20833365619182587\n",
      "losschange: -2.9802322387695312e-08\n",
      "epoch:  112 Loss:  0.20833362638950348\n",
      "losschange: -2.9802322387695312e-08\n",
      "epoch:  113 Loss:  0.2083335816860199\n",
      "losschange: -4.470348358154297e-08\n",
      "epoch:  114 Loss:  0.2083335667848587\n",
      "losschange: -1.4901161193847656e-08\n",
      "epoch:  115 Loss:  0.2083335518836975\n",
      "losschange: -1.4901161193847656e-08\n",
      "epoch:  116 Loss:  0.20833352208137512\n",
      "losschange: -2.9802322387695312e-08\n",
      "epoch:  117 Loss:  0.20833349227905273\n",
      "losschange: -2.9802322387695312e-08\n",
      "epoch:  118 Loss:  0.20833347737789154\n",
      "losschange: -1.4901161193847656e-08\n",
      "epoch:  119 Loss:  0.20833346247673035\n",
      "losschange: -1.4901161193847656e-08\n",
      "epoch:  120 Loss:  0.20833346247673035\n",
      "losschange: 0.0\n"
     ]
    }
   ],
   "source": [
    "criterion = torch.nn.MSELoss()#Mittlerer quadratischer Fehler                 \n",
    "\n",
    "epoch=0\n",
    "optimizer = torch.optim.SGD(net.parameters(), lr = 0.1)\n",
    "\n",
    "\n",
    "while True:\n",
    "    y_pred = net(X)#model.predict --> Vorhersage des Modells der gesamten Epoche\n",
    "    # loss wird anhand von criterion berechnet\n",
    "    loss = criterion(y_pred,Y)\n",
    "    \n",
    "    losshist.append(loss.item())\n",
    "    #plotter(losshist) für präsentation\n",
    "    #for param in net.parameters():\n",
    "    #     print('weights: ',param.data)\n",
    "    if len(losshist)>2:\n",
    "        print('losschange:',(losshist[epoch]-losshist[epoch-1]))\n",
    "        if(losshist[epoch]-losshist[epoch-1])>=0:\n",
    "            break\n",
    "    #time.sleep(1) für präsentation\n",
    "    \n",
    "    optimizer.zero_grad()\n",
    "    \n",
    "    loss.backward()\n",
    "    # Parameterupdate\n",
    "    optimizer.step()\n",
    "    epoch+=1"
   ]
  },
  {
   "cell_type": "code",
   "execution_count": 170,
   "metadata": {},
   "outputs": [],
   "source": [
    "z=net(X)"
   ]
  },
  {
   "cell_type": "code",
   "execution_count": 171,
   "metadata": {},
   "outputs": [
    {
     "name": "stdout",
     "output_type": "stream",
     "text": [
      "tensor([[1.0000],\n",
      "        [0.5015],\n",
      "        [0.4985],\n",
      "        [0.0000]], grad_fn=<MulBackward0>)\n"
     ]
    }
   ],
   "source": [
    "print(z*3)# deuten der daten, theoretisch ist jetzt alles kleiner gleich 0.502 = 0, die Funktion kann\n",
    "          #natürlich nicht wie eine Transferfunktion alles auf 0 mappen"
   ]
  },
  {
   "cell_type": "code",
   "execution_count": 174,
   "metadata": {},
   "outputs": [
    {
     "data": {
      "text/plain": [
       "<matplotlib.legend.Legend at 0x26a5dd74ba8>"
      ]
     },
     "execution_count": 174,
     "metadata": {},
     "output_type": "execute_result"
    },
    {
     "data": {
      "image/png": "[encoded data removed]",
      "text/plain": [
       "<Figure size 432x288 with 1 Axes>"
      ]
     },
     "metadata": {
      "needs_background": "light"
     },
     "output_type": "display_data"
    }
   ],
   "source": [
    "u=np.arange(len(losshist))\n",
    "plt.plot(u,losshist,label='Lernkurve')\n",
    "plt.plot((0,len(losshist)-1),(losshist[0],losshist[len(losshist)-1]),label='Linearisierung')\n",
    "plt.xlabel('Iterationen')\n",
    "plt.ylabel('Fehler in relativen Einheiten')\n",
    "\n",
    "plt.legend(bbox_to_anchor=(1.05, 1), loc=2, borderaxespad=0.)"
   ]
  },
  {
   "cell_type": "code",
   "execution_count": 176,
   "metadata": {},
   "outputs": [
    {
     "name": "stderr",
     "output_type": "stream",
     "text": [
      "c:\\users\\max\\appdata\\local\\programs\\python\\python37\\lib\\site-packages\\ipykernel_launcher.py:1: RuntimeWarning: divide by zero encountered in true_divide\n",
      "  \"\"\"Entry point for launching an IPython kernel.\n"
     ]
    },
    {
     "data": {
      "text/plain": [
       "[<matplotlib.lines.Line2D at 0x26a5e90db00>]"
      ]
     },
     "execution_count": 176,
     "metadata": {},
     "output_type": "execute_result"
    },
    {
     "data": {
      "image/png": "[encoded data removed]",
      "text/plain": [
       "<Figure size 432x288 with 1 Axes>"
      ]
     },
     "metadata": {
      "needs_background": "light"
     },
     "output_type": "display_data"
    }
   ],
   "source": [
    "plt.plot(u,-(1/(u*u)))# Ableitung der Lernkurve (approximiert)"
   ]
  },
  {
   "cell_type": "code",
   "execution_count": null,
   "metadata": {},
   "outputs": [],
   "source": []
  }
 ],
 "metadata": {
  "kernelspec": {
   "display_name": "Python 3",
   "language": "python",
   "name": "python3"
  },
  "language_info": {
   "codemirror_mode": {
    "name": "ipython",
    "version": 3
   },
   "file_extension": ".py",
   "mimetype": "text/x-python",
   "name": "python",
   "nbconvert_exporter": "python",
   "pygments_lexer": "ipython3",
   "version": "3.7.3"
  }
 },
 "nbformat": 4,
 "nbformat_minor": 2
}
