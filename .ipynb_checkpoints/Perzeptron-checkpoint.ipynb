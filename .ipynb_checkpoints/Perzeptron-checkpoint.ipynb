{
 "cells": [
  {
   "cell_type": "code",
   "execution_count": 22,
   "metadata": {},
   "outputs": [],
   "source": [
    "import torch.nn as nn\n",
    "import torchvision\n",
    "import torch\n",
    "\n",
    "\n",
    "X=(1.,1.),(1.,0.),(0.,1.),(0.,0.)\n",
    "Y=(1.,0.,0.,0.)\n",
    "X=torch.Tensor(X)\n",
    "Y=torch.Tensor(Y)"
   ]
  },
  {
   "cell_type": "code",
   "execution_count": 23,
   "metadata": {},
   "outputs": [],
   "source": [
    "net=nn.Sequential(\n",
    "nn.Linear(2,1,bias=False)\n",
    ")\n"
   ]
  },
  {
   "cell_type": "code",
   "execution_count": 24,
   "metadata": {},
   "outputs": [],
   "source": [
    "losshist=[]"
   ]
  },
  {
   "cell_type": "code",
   "execution_count": 25,
   "metadata": {},
   "outputs": [
    {
     "name": "stdout",
     "output_type": "stream",
     "text": [
      "epoch:  1 Loss:  1.2049039602279663\n",
      "epoch:  2 Loss:  0.9286616444587708\n",
      "epoch:  3 Loss:  0.7290467619895935\n",
      "epoch:  4 Loss:  0.5847979784011841\n",
      "epoch:  5 Loss:  0.4805540442466736\n",
      "epoch:  6 Loss:  0.4052158296108246\n",
      "epoch:  7 Loss:  0.3507641851902008\n",
      "epoch:  8 Loss:  0.3114050030708313\n",
      "epoch:  9 Loss:  0.28295186161994934\n",
      "epoch:  10 Loss:  0.26237988471984863\n",
      "epoch:  11 Loss:  0.24750353395938873\n",
      "epoch:  12 Loss:  0.2367435097694397\n",
      "epoch:  13 Loss:  0.22895869612693787\n",
      "epoch:  14 Loss:  0.22332452237606049\n",
      "epoch:  15 Loss:  0.21924512088298798\n",
      "epoch:  16 Loss:  0.21628987789154053\n",
      "epoch:  17 Loss:  0.2141476273536682\n",
      "epoch:  18 Loss:  0.2125934511423111\n",
      "epoch:  19 Loss:  0.2114647626876831\n",
      "epoch:  20 Loss:  0.21064408123493195\n",
      "epoch:  21 Loss:  0.2100464254617691\n",
      "epoch:  22 Loss:  0.20961037278175354\n",
      "epoch:  23 Loss:  0.2092914879322052\n",
      "epoch:  24 Loss:  0.20905762910842896\n",
      "epoch:  25 Loss:  0.2088855504989624\n",
      "epoch:  26 Loss:  0.2087583988904953\n",
      "epoch:  27 Loss:  0.20866400003433228\n",
      "epoch:  28 Loss:  0.208593487739563\n",
      "epoch:  29 Loss:  0.20854046940803528\n",
      "epoch:  30 Loss:  0.20850031077861786\n",
      "epoch:  31 Loss:  0.20846958458423615\n",
      "epoch:  32 Loss:  0.20844587683677673\n",
      "epoch:  33 Loss:  0.20842736959457397\n",
      "epoch:  34 Loss:  0.208412766456604\n",
      "epoch:  35 Loss:  0.20840108394622803\n",
      "epoch:  36 Loss:  0.20839163661003113\n",
      "epoch:  37 Loss:  0.20838390290737152\n",
      "epoch:  38 Loss:  0.20837748050689697\n",
      "epoch:  39 Loss:  0.208372101187706\n",
      "epoch:  40 Loss:  0.20836754143238068\n",
      "epoch:  41 Loss:  0.20836365222930908\n",
      "epoch:  42 Loss:  0.20836029946804047\n",
      "epoch:  43 Loss:  0.20835737884044647\n",
      "epoch:  44 Loss:  0.20835481584072113\n",
      "epoch:  45 Loss:  0.20835258066654205\n",
      "epoch:  46 Loss:  0.20835058391094208\n",
      "epoch:  47 Loss:  0.2083488255739212\n",
      "epoch:  48 Loss:  0.20834726095199585\n",
      "epoch:  49 Loss:  0.20834586024284363\n",
      "epoch:  50 Loss:  0.20834460854530334\n"
     ]
    }
   ],
   "source": [
    "criterion = torch.nn.MSELoss()#Mittlerer quadratischer Fehler                 \n",
    "\n",
    "epoch=0\n",
    "optimizer = torch.optim.SGD(net.parameters(), lr = 0.1)\n",
    "\n",
    "\n",
    "while epoch<50:\n",
    "    epoch+=1\n",
    "    y_pred = net(X)#model.predict --> Vorhersage des Modells der gesamten Epoche\n",
    "\n",
    "    # loss wird anhand von criterion berechnet\n",
    "    loss = criterion(y_pred,Y)\n",
    "    print(\"epoch: \",epoch,\"Loss: \",loss.item())\n",
    "    losshist.append(loss.item())\n",
    "    # Gradienten auf null setzen\n",
    "    optimizer.zero_grad()\n",
    "\n",
    "    # Backwardpass aller Gewichte und Biases anhand Backpropagation\n",
    "    loss.backward()\n",
    "\n",
    "    # Parameterupdate\n",
    "    optimizer.step()"
   ]
  },
  {
   "cell_type": "code",
   "execution_count": 26,
   "metadata": {},
   "outputs": [],
   "source": [
    "z=net(X)"
   ]
  },
  {
   "cell_type": "code",
   "execution_count": 27,
   "metadata": {},
   "outputs": [
    {
     "name": "stdout",
     "output_type": "stream",
     "text": [
      "tensor([[0.9986],\n",
      "        [0.4858],\n",
      "        [0.5127],\n",
      "        [0.0000]], grad_fn=<MulBackward0>)\n"
     ]
    }
   ],
   "source": [
    "print(z*3)"
   ]
  },
  {
   "cell_type": "code",
   "execution_count": 28,
   "metadata": {},
   "outputs": [
    {
     "data": {
      "text/plain": [
       "[<matplotlib.lines.Line2D at 0x21448ffb2b0>]"
      ]
     },
     "execution_count": 28,
     "metadata": {},
     "output_type": "execute_result"
    },
    {
     "data": {
      "image/png": "[encoded data removed]",
      "text/plain": [
       "<Figure size 432x288 with 1 Axes>"
      ]
     },
     "metadata": {
      "needs_background": "light"
     },
     "output_type": "display_data"
    }
   ],
   "source": [
    "import numpy as np\n",
    "import matplotlib.pyplot as plt\n",
    "x=np.arange(50)\n",
    "plt.plot(x,losshist)"
   ]
  },
  {
   "cell_type": "code",
   "execution_count": null,
   "metadata": {},
   "outputs": [],
   "source": []
  },
  {
   "cell_type": "code",
   "execution_count": null,
   "metadata": {},
   "outputs": [],
   "source": []
  }
 ],
 "metadata": {
  "kernelspec": {
   "display_name": "Python 3",
   "language": "python",
   "name": "python3"
  },
  "language_info": {
   "codemirror_mode": {
    "name": "ipython",
    "version": 3
   },
   "file_extension": ".py",
   "mimetype": "text/x-python",
   "name": "python",
   "nbconvert_exporter": "python",
   "pygments_lexer": "ipython3",
   "version": "3.7.3"
  }
 },
 "nbformat": 4,
 "nbformat_minor": 2
}
